{
 "cells": [
  {
   "cell_type": "code",
   "execution_count": 12,
   "id": "dd0da8b1",
   "metadata": {},
   "outputs": [],
   "source": [
    "import numpy as np\n",
    "import sympy as sp\n",
    "\n",
    "from qiskit import QuantumCircuit, transpile\n",
    "from qiskit_aer import StatevectorSimulator, UnitarySimulator\n",
    "\n",
    "from typing import Dict, List, Tuple, Union, Optional\n",
    "import warnings\n",
    "\n",
    "\n",
    "import matplotlib.pyplot as plt\n",
    "import matplotlib.cm as cm\n",
    "import matplotlib.colors as mcolors\n",
    "\n",
    "import scipy\n",
    "import cmath\n",
    "\n",
    "from diff_op import LaplacianOperator, DifferentialOperator, Operator, IdentityOperator\n",
    "from svp_op import binary_coord, qma_grouping, bit2op\n",
    "from lchsimulation import LCHSimulation"
   ]
  },
  {
   "cell_type": "markdown",
   "id": "250b3656",
   "metadata": {},
   "source": [
    "In this note, we will set the identity $I$ and\n",
    "\n",
    "the Ladder Operators\n",
    "$$\n",
    "R = \\sigma_{01}:=\\left[\\begin{array}{ll}\n",
    "0 & 1 \\\\\n",
    "0 & 0\n",
    "\\end{array}\\right], \\quad L = \\sigma_{10}:=\\left[\\begin{array}{ll}\n",
    "0 & 0 \\\\\n",
    "1 & 0\n",
    "\\end{array}\\right],\n",
    "$$\n",
    "\n",
    "the Projector Operators\n",
    "$$\n",
    "U = \\sigma_{00}:=\\left[\\begin{array}{ll}\n",
    "1 & 0 \\\\\n",
    "0 & 0\n",
    "\\end{array}\\right], \\quad D = \\sigma_{11}:=\\left[\\begin{array}{ll}\n",
    "0 & 0 \\\\\n",
    "0 & 1\n",
    "\\end{array}\\right] .\n",
    "$$\n",
    "\n",
    "When we write in a dictionary 'IRLDU': 2.0, it means the following tensor product:\n",
    "\n",
    "$$\n",
    "2.0\\; I \\otimes R \\otimes L \\otimes D \\otimes U\n",
    "$$\n"
   ]
  },
  {
   "cell_type": "markdown",
   "id": "417076aa",
   "metadata": {},
   "source": [
    "Before we turn to the operator, let us first see how to use spatial varying parameter operators."
   ]
  },
  {
   "cell_type": "code",
   "execution_count": 2,
   "id": "39c79d33",
   "metadata": {},
   "outputs": [
    {
     "name": "stdout",
     "output_type": "stream",
     "text": [
      "['1001', '1101', '1011', '1111', '1000']\n",
      "{'1--1': 1.0, '100-': 1.0}\n",
      "{'DIID': 1.0, 'DUUU': 1.0}\n"
     ]
    }
   ],
   "source": [
    "# example coordinates\n",
    "coords = [(1, 2), (1, 3), (3, 2), (3, 3), (0, 2)]\n",
    "\n",
    "# convert the coordinates to binary strings\n",
    "minterms = binary_coord(coords, digits=2)\n",
    "print(minterms)\n",
    "\n",
    "# group the binary strings\n",
    "c_dict = qma_grouping(minterms)\n",
    "print(c_dict)\n",
    "\n",
    "# convert the binary strings to a dictionary of matrices\n",
    "c_dict = bit2op(c_dict, embed_bits=[2, 2])\n",
    "print(c_dict)\n"
   ]
  },
  {
   "cell_type": "markdown",
   "id": "7835ffa9",
   "metadata": {},
   "source": [
    "Now, let us reproduce the pattern in the research with directly the simplified dictionary"
   ]
  },
  {
   "cell_type": "code",
   "execution_count": 3,
   "id": "e36ca1a0",
   "metadata": {},
   "outputs": [
    {
     "data": {
      "image/png": "[encoded data removed]",
      "text/plain": [
       "<Figure size 640x480 with 1 Axes>"
      ]
     },
     "metadata": {},
     "output_type": "display_data"
    }
   ],
   "source": [
    "c_dict = {\n",
    "    \"010-100-\": 1,\n",
    "    \"101-100-\": 1,\n",
    "    \"010-01--\": 1,\n",
    "    \"101-01--\": 1,\n",
    "    \"10--010-\": 1,\n",
    "    \"01--010-\": 1\n",
    "}\n",
    "\n",
    "nx = 5\n",
    "ny = 5\n",
    "c1 = 10.0\n",
    "\n",
    "# Here there are only 8 bits, the embed_bits is set to [5, 5] to make the total number of bits 10\n",
    "c_dict = bit2op(c_dict, embed_bits=[nx, ny])\n",
    "\n",
    "# Construct the operator where the addition is defined\n",
    "c_op = Operator(num_bits=nx+ny, op_dict=c_dict)\n",
    "I_op = IdentityOperator(num_qubits=nx+ny)\n",
    "\n",
    "# This is the final operator used in the paper\n",
    "op = (c1-1.0) * c_op + 1.0 * I_op\n",
    "\n",
    "# Plot the diagonal elements of the operator\n",
    "x, y = np.meshgrid(np.arange(2**nx), np.arange(2**ny))\n",
    "matrix = np.diag(op.op2matrix().real).reshape((2**ny, 2**nx))\n",
    "\n",
    "fig, ax = plt.subplots(1, 1)\n",
    "ax.imshow(matrix, cmap='gray_r', origin='lower')\n",
    "ax.set_aspect('equal')\n",
    "ax.set_xticks(list(range(0, 2**nx, 16)) + [2**nx - 1])\n",
    "ax.set_yticks(list(range(0, 2**ny, 16)) + [2**ny - 1])\n",
    "\n",
    "plt.show()"
   ]
  },
  {
   "cell_type": "markdown",
   "id": "e2f9ffe3",
   "metadata": {},
   "source": [
    "### Acoustic Wave Equation"
   ]
  },
  {
   "cell_type": "markdown",
   "id": "b7fcd319",
   "metadata": {},
   "source": [
    "The definition of the Hamiltonian"
   ]
  },
  {
   "cell_type": "code",
   "execution_count": 22,
   "id": "ca20186d",
   "metadata": {},
   "outputs": [],
   "source": [
    "def acoustic_wave_hamiltonian(nx, ny, h, bc_dict, c_dict, c1):\n",
    "\n",
    "    op_c_dict = bit2op(c_dict, embed_bits=[nx, ny])\n",
    "\n",
    "    c1_op = Operator(num_bits=nx+ny, op_dict=op_c_dict)\n",
    "    I_op = IdentityOperator(num_qubits=nx+ny)\n",
    "    c_op = (c1-1.0) * c1_op + 1.0 * I_op\n",
    "\n",
    "    U_op = Operator(num_bits=1, op_dict={'U': 1})\n",
    "    R_op = Operator(num_bits=1, op_dict={'R': 1})\n",
    "    L_op = Operator(num_bits=1, op_dict={'L': 1})\n",
    "\n",
    "    UR_op = U_op.tensor_product(R_op)\n",
    "    RU_op = R_op.tensor_product(U_op)\n",
    "    UL_op = U_op.tensor_product(L_op)\n",
    "    LU_op = L_op.tensor_product(U_op)\n",
    "\n",
    "    cDpx = c_op @ DifferentialOperator(num_bits_x=nx, num_bits_y=ny, direction='forward', dim=2, axis='0', h=h, bc=bc_dict)\n",
    "    cDpy = c_op @ DifferentialOperator(num_bits_x=nx, num_bits_y=ny, direction='forward', dim=2, axis='1', h=h, bc=bc_dict)\n",
    "\n",
    "    cDmx = DifferentialOperator(num_bits_x=nx, num_bits_y=ny, direction='backward', dim=2, axis='0', h=h, bc=bc_dict) @ c_op\n",
    "    cDmy = DifferentialOperator(num_bits_x=nx, num_bits_y=ny, direction='backward', dim=2, axis='1', h=h, bc=bc_dict) @ c_op\n",
    "\n",
    "    H = 1j * (UR_op.tensor_product(cDpx) + RU_op.tensor_product(cDpy) + UL_op.tensor_product(cDmx) + LU_op.tensor_product(cDmy))\n",
    "\n",
    "    return H"
   ]
  },
  {
   "cell_type": "markdown",
   "id": "7c5d0bc2",
   "metadata": {},
   "source": [
    "Here we gave the simulation procedure with matrix exponential matrix and LCHS.\n",
    "\n",
    "The following three blocks should be implemented in order."
   ]
  },
  {
   "cell_type": "code",
   "execution_count": 23,
   "id": "f71ca98b",
   "metadata": {},
   "outputs": [],
   "source": [
    "nx = 5\n",
    "ny = 5\n",
    "c1 = 10\n",
    "h = 1.0\n",
    "\n",
    "bc_dict = {\n",
    "    '0': ('D', 'D'),\n",
    "    '1': ('P', 'P')\n",
    "}\n",
    "\n",
    "c_dict = {\n",
    "    \"010-100-\": 1,\n",
    "    \"101-100-\": 1,\n",
    "    \"010-01--\": 1,\n",
    "    \"101-01--\": 1,\n",
    "    \"10--010-\": 1,\n",
    "    \"01--010-\": 1\n",
    "}\n",
    "\n",
    "H = acoustic_wave_hamiltonian(nx, ny, h, bc_dict, c_dict, c1)\n",
    "lchs = LCHSimulation(op=H)"
   ]
  },
  {
   "cell_type": "code",
   "execution_count": 24,
   "id": "77364979",
   "metadata": {},
   "outputs": [],
   "source": [
    "# Simulation with LCHS\n",
    "# Simulation parameters\n",
    "T = 20.0\n",
    "dt = 0.001\n",
    "dt_sample = 0.01\n",
    "sample_rate = 10\n",
    "\n",
    "# Circuit\n",
    "circuit = lchs.simulation_circuit(dt=dt)\n",
    "\n",
    "# Initial state\n",
    "w_q = np.zeros((2, 2, 2**nx, 2**ny), dtype=np.complex128)\n",
    "w_q[0, 0, 2**(ny-1)-2:2**(ny-1)+2, 2**(nx-1)-2:2**(nx-1)] = 1\n",
    "w_q = w_q.flatten()\n",
    "w_q = w_q / np.sqrt(np.sum(w_q))\n",
    "\n",
    "# Simulation\n",
    "w_q_list = lchs.matrix_simulation_evolve(T=T, state=w_q, sample_rate=sample_rate)"
   ]
  },
  {
   "cell_type": "code",
   "execution_count": 26,
   "id": "e607bd43",
   "metadata": {},
   "outputs": [],
   "source": [
    "# Initial state in matrix form\n",
    "w_c = np.zeros((2, 2, 2**nx, 2**ny), dtype=np.complex128)\n",
    "w_c[0, 0, 2**(ny-1)-2:2**(ny-1)+2, 2**(nx-1)-2:2**(nx-1)] = 1\n",
    "w_c = w_c.flatten()\n",
    "w_c = w_c / np.sqrt(np.sum(w_c))\n",
    "\n",
    "w_c_list = []\n",
    "\n",
    "# Matrix Hamiltonian\n",
    "H_mat = H.op2matrix()\n",
    "U = scipy.linalg.expm(-1j*H_mat*dt)\n",
    "\n",
    "for i in range(int(T/dt)):\n",
    "\n",
    "    if i % int(dt_sample/dt) == 0:\n",
    "        w_c_list.append(w_c)\n",
    "    \n",
    "    w_c = U @ w_c\n",
    "\n",
    "w_c_list.append(w_c)\n",
    "w_c_list = np.array(w_c_list)"
   ]
  },
  {
   "cell_type": "markdown",
   "id": "4594203a",
   "metadata": {},
   "source": [
    "Let us show the simulation results in figures"
   ]
  },
  {
   "cell_type": "markdown",
   "id": "43a9d69c",
   "metadata": {},
   "source": [
    "First one is the LCHS method"
   ]
  },
  {
   "cell_type": "code",
   "execution_count": 25,
   "id": "ebbeb280",
   "metadata": {},
   "outputs": [
    {
     "name": "stdout",
     "output_type": "stream",
     "text": [
      "[np.float64(0.35355339059327373), np.float64(0.11718666632389006), np.float64(0.08471363242739073)]\n"
     ]
    },
    {
     "data": {
      "image/png": "[encoded data removed]",
      "text/plain": [
       "<Figure size 1600x450 with 4 Axes>"
      ]
     },
     "metadata": {},
     "output_type": "display_data"
    }
   ],
   "source": [
    "idx = [0, 10, 20]\n",
    "n, nx, ny, dt = 12, 5, 5, 0.01\n",
    "\n",
    "# make a copy of the data\n",
    "w = w_q_list.copy()\n",
    "\n",
    "# 1) build all 2D snapshots in order\n",
    "zs = [\n",
    "    w[int(t/dt), :2**(n-2)].real.reshape(2**ny, 2**nx)\n",
    "    for t in idx\n",
    "]\n",
    "\n",
    "# 2) find global min/max\n",
    "vmin = min(z.min() for z in zs)\n",
    "vmax = max(z.max() for z in zs)\n",
    "\n",
    "# 3) prep norm + colormap\n",
    "cmap = 'bwr'\n",
    "norm = mcolors.Normalize(vmin=vmin, vmax=vmax)\n",
    "\n",
    "# 4) make subplots\n",
    "fig, axes = plt.subplots(1, len(idx), figsize=(16, 4.5))\n",
    "fig.subplots_adjust(wspace=0.4, hspace=0.4)\n",
    "\n",
    "# 5) plot each panel in sequence\n",
    "for ax, z, t in zip(axes, zs, idx):\n",
    "    im = ax.imshow(z, origin='lower', cmap=cmap, norm=norm)\n",
    "    ax.set_aspect('equal')\n",
    "    ax.set_xticks(list(range(0, 2**nx, 16)) + [2**nx-1])\n",
    "    ax.set_yticks(list(range(0, 2**ny, 16)) + [2**ny-1])\n",
    "    ax.set_title(f't = {t}')\n",
    "\n",
    "# optional: print the maxima\n",
    "print([z.max() for z in zs])\n",
    "\n",
    "# 6) add the colorbar (pad bumped to avoid overlap)\n",
    "fig.colorbar(im, ax=axes, pad=0.025, shrink=0.5)\n",
    "\n",
    "# 7) super‐title + spacing just like before\n",
    "fig.suptitle('Acoustic wave in a 5x5 grid by LCHS',\n",
    "             fontsize=16)\n",
    "\n",
    "plt.show()"
   ]
  },
  {
   "cell_type": "markdown",
   "id": "d329fced",
   "metadata": {},
   "source": [
    "Next is the matrix exponential method"
   ]
  },
  {
   "cell_type": "code",
   "execution_count": 27,
   "id": "a490e18d",
   "metadata": {},
   "outputs": [
    {
     "name": "stdout",
     "output_type": "stream",
     "text": [
      "[np.float64(0.35355339059327373), np.float64(0.11586758417094406), np.float64(0.08343712924236742)]\n"
     ]
    },
    {
     "data": {
      "image/png": "[encoded data removed]",
      "text/plain": [
       "<Figure size 1600x450 with 4 Axes>"
      ]
     },
     "metadata": {},
     "output_type": "display_data"
    }
   ],
   "source": [
    "idx = [0, 10, 20]\n",
    "n, nx, ny, dt = 12, 5, 5, 0.01\n",
    "\n",
    "# make a copy of the data\n",
    "w = w_c_list.copy()\n",
    "\n",
    "# 1) build all 2D snapshots in order\n",
    "zs = [\n",
    "    w[int(t/dt), :2**(n-2)].real.reshape(2**ny, 2**nx)\n",
    "    for t in idx\n",
    "]\n",
    "\n",
    "# 2) find global min/max\n",
    "vmin = min(z.min() for z in zs)\n",
    "vmax = max(z.max() for z in zs)\n",
    "\n",
    "# 3) prep norm + colormap\n",
    "cmap = 'bwr'\n",
    "norm = mcolors.Normalize(vmin=vmin, vmax=vmax)\n",
    "\n",
    "# 4) make subplots\n",
    "fig, axes = plt.subplots(1, len(idx), figsize=(16, 4.5))\n",
    "fig.subplots_adjust(wspace=0.4, hspace=0.4)\n",
    "\n",
    "# 5) plot each panel in sequence\n",
    "for ax, z, t in zip(axes, zs, idx):\n",
    "    im = ax.imshow(z, origin='lower', cmap=cmap, norm=norm)\n",
    "    ax.set_aspect('equal')\n",
    "    ax.set_xticks(list(range(0, 2**nx, 16)) + [2**nx-1])\n",
    "    ax.set_yticks(list(range(0, 2**ny, 16)) + [2**ny-1])\n",
    "    ax.set_title(f't = {t}')\n",
    "\n",
    "# optional: print the maxima\n",
    "print([z.max() for z in zs])\n",
    "\n",
    "# 6) add the colorbar (pad bumped to avoid overlap)\n",
    "fig.colorbar(im, ax=axes, pad=0.025, shrink=0.5)\n",
    "\n",
    "# 7) super‐title + spacing just like before\n",
    "fig.suptitle('Acoustic wave in a 5x5 grid by Matrix Exponential',\n",
    "             fontsize=16)\n",
    "\n",
    "plt.show()\n"
   ]
  },
  {
   "cell_type": "markdown",
   "id": "4726620d",
   "metadata": {},
   "source": [
    "### Heat Equation"
   ]
  },
  {
   "cell_type": "markdown",
   "id": "0bd49a99",
   "metadata": {},
   "source": [
    "Since we have not shown the Heat equation in the presentation, we will list some basic information for the numerical simualtion. First, the 2d Heat equation is given by\n",
    "\n",
    "$$\n",
    "\\frac{\\partial \\theta(t, \\boldsymbol{x})}{\\partial t}=\\kappa \\nabla^2 \\theta(t, \\boldsymbol{x}), \\text { for }(t, \\boldsymbol{x}) \\in(0, T] \\times \\Omega,\n",
    "$$\n",
    "\n",
    "The Hamiltonian can be decomposed into two parts\n",
    "\n",
    "$$\n",
    "\\begin{aligned}\n",
    "\\boldsymbol{H} & =\\frac{\\boldsymbol{A}-\\boldsymbol{A}^{\\dagger}}{2 i}=0 \\\\\n",
    "\\boldsymbol{L} & =\\frac{\\boldsymbol{A}+\\boldsymbol{A}^{\\dagger}}{2}=-\\frac{\\kappa}{2} \\sum_{\\mu=0}^{d-1}\\left(D_\\mu^{+} D_\\mu^{-}+D_\\mu^{-} D_\\mu^{+}\\right)\n",
    "\\end{aligned}\n",
    "$$\n",
    "\n",
    "Here $n_0=n_1=4, \\tau=1.0\\times 10^-1, T=10, h=1, \\kappa=0.1$. The initial condition is given by\n",
    "\n",
    "$$\n",
    "\\boldsymbol{w}(0)=|w(0)\\rangle=\\frac{\\sqrt{2}}{4}(|0110\\rangle+|0111\\rangle+|1000\\rangle+|1001\\rangle) \\otimes(|0110\\rangle+|0111\\rangle)\n",
    "$$\n",
    "\n",
    "corresponding to\n",
    "\n",
    "$$\n",
    "\\theta\\left(0, \\boldsymbol{x}^{[j]}\\right)= \\begin{cases}\\frac{\\sqrt{2}}{4} & \\text { for } x_1^{[j]} \\in\\{6,7,8,9\\}, x_0^{[j]} \\in\\{6,7\\} \\\\ 0 & \\text { otherwise. }\\end{cases}\n",
    "$$\n",
    "\n",
    "It can be generated using the following state preparation oracle\n",
    "\n",
    "$$\n",
    "O_{\\text {prep }}=\\underbrace{\\mathrm{CX}_{8,7} \\mathrm{CX}_{8,6}\\left(H \\otimes X^{\\otimes 2} \\otimes H\\right)}_{\\text {State preparation for } x_1^{[j]}} \\otimes \\underbrace{I \\otimes X^{\\otimes 2} \\otimes H}_{\\text {State preparation for } x_0^{[j]}} .\n",
    "$$\n",
    "\n",
    "Impose the Dirichlet boundary conditions for all boundaries."
   ]
  },
  {
   "cell_type": "markdown",
   "id": "86692c90",
   "metadata": {},
   "source": [
    "Define the Hamiltionian"
   ]
  },
  {
   "cell_type": "code",
   "execution_count": 81,
   "id": "04e298d9",
   "metadata": {},
   "outputs": [],
   "source": [
    "def heat_hamiltonian(nx, ny, h, bc_dict, kappa):\n",
    "\n",
    "    Dpx = DifferentialOperator(num_bits_x=nx, num_bits_y=ny, direction='forward', dim=2, axis='0', h=h, bc=bc_dict)\n",
    "    Dpy = DifferentialOperator(num_bits_x=nx, num_bits_y=ny, direction='forward', dim=2, axis='1', h=h, bc=bc_dict)\n",
    "\n",
    "    Dmx = DifferentialOperator(num_bits_x=nx, num_bits_y=ny, direction='backward', dim=2, axis='0', h=h, bc=bc_dict)\n",
    "    Dmy = DifferentialOperator(num_bits_x=nx, num_bits_y=ny, direction='backward', dim=2, axis='1', h=h, bc=bc_dict)\n",
    "\n",
    "    Lx = LaplacianOperator(num_bits_x=nx, num_bits_y=ny, dim=2, axis='0', h=h, bc=bc_dict)\n",
    "    Ly = LaplacianOperator(num_bits_x=nx, num_bits_y=ny, dim=2, axis='1', h=h, bc=bc_dict)\n",
    "\n",
    "    #L = (1j)* kappa/2 * (Dpx @ Dmx + Dmx @ Dpx + Dpy @ Dmy + Dmy @ Dpy)\n",
    "    L =  -kappa/2 * (Dpx @ Dmx + Dmx @ Dpx + Dpy @ Dmy + Dmy @ Dpy)\n",
    "    #L = -kappa * (Lx + Ly)\n",
    "\n",
    "    return L"
   ]
  },
  {
   "cell_type": "code",
   "execution_count": 82,
   "id": "a9a1ff4a",
   "metadata": {},
   "outputs": [],
   "source": [
    "nx = 4\n",
    "ny = 4\n",
    "h = 1.0\n",
    "kappa = 0.1\n",
    "\n",
    "# State preparation circuit\n",
    "prep_circ = QuantumCircuit(nx + ny)\n",
    "prep_circ.h(prep_circ.qubits[ny + nx - 1]) # most significant bit for y\n",
    "prep_circ.h(prep_circ.qubits[nx])\n",
    "for i in range(1, ny-1):\n",
    "    prep_circ.cx(prep_circ.qubits[ny + nx - 1], prep_circ.qubits[nx + i])\n",
    "    prep_circ.x(prep_circ.qubits[nx + i])\n",
    "\n",
    "prep_circ.h(prep_circ.qubits[0]) # least significant bit for x\n",
    "for i in range(1, nx-1):\n",
    "    prep_circ.x(prep_circ.qubits[i])\n",
    "\n",
    "# Initial state in matrix form\n",
    "w_c = np.zeros((2**nx, 2**ny))\n",
    "w_c[2**(ny-1)-2:2**(ny-1)+2, 2**(nx-1)-2:2**(nx-1)] = 1\n",
    "w_c = w_c.flatten()\n",
    "w_c = w_c / np.linalg.norm(w_c)"
   ]
  },
  {
   "cell_type": "markdown",
   "id": "d0d31bcd",
   "metadata": {},
   "source": [
    "Exponential Matrix Simulation"
   ]
  },
  {
   "cell_type": "code",
   "execution_count": 83,
   "id": "20eec76c",
   "metadata": {},
   "outputs": [],
   "source": [
    "# Simulation parameters\n",
    "T = 10.0\n",
    "dt = 0.1\n",
    "\n",
    "# boundary conditions\n",
    "bc_dict = {\n",
    "    '0': ('D', 'D'),\n",
    "    '1': ('D', 'D')\n",
    "}\n",
    "\n",
    "L = heat_hamiltonian(nx, ny, h, bc_dict, kappa)\n",
    "L_mat = L.op2matrix()\n",
    "U = scipy.linalg.expm(-L_mat*dt)\n",
    "\n",
    "w_c_list = []\n",
    "for i in range(int(T/dt)):\n",
    "    w_c = U @ w_c\n",
    "    w_c_list.append(w_c)\n",
    "\n",
    "w_c_list.append(w_c)\n",
    "w_c_list = np.array(w_c_list)"
   ]
  },
  {
   "cell_type": "code",
   "execution_count": 84,
   "id": "8bc06438",
   "metadata": {},
   "outputs": [
    {
     "name": "stdout",
     "output_type": "stream",
     "text": [
      "[np.float64(0.3500356481432472), np.float64(0.2200349380083447), np.float64(0.15412549795952676)]\n"
     ]
    },
    {
     "data": {
      "image/png": "[encoded data removed]",
      "text/plain": [
       "<Figure size 1600x450 with 4 Axes>"
      ]
     },
     "metadata": {},
     "output_type": "display_data"
    }
   ],
   "source": [
    "idx = [0, 5, 10]\n",
    "n, nx, ny, dt = 8, 4, 4, 0.1\n",
    "\n",
    "# make a copy of the data\n",
    "w = w_c_list.copy()\n",
    "\n",
    "# 1) build all 2D snapshots in order\n",
    "zs = [\n",
    "    w[int(t/dt), :2**n].real.reshape(2**ny, 2**nx)\n",
    "    for t in idx\n",
    "]\n",
    "\n",
    "# 2) find global min/max\n",
    "vmin = min(z.min() for z in zs)\n",
    "vmax = max(z.max() for z in zs)\n",
    "\n",
    "# 3) prep norm + colormap\n",
    "cmap = 'hot'\n",
    "norm = mcolors.Normalize(vmin=vmin, vmax=vmax)\n",
    "\n",
    "# 4) make subplots\n",
    "fig, axes = plt.subplots(1, len(idx), figsize=(16, 4.5))\n",
    "fig.subplots_adjust(wspace=0.4, hspace=0.4)\n",
    "\n",
    "# 5) plot each panel in sequence\n",
    "for ax, z, t in zip(axes, zs, idx):\n",
    "    im = ax.imshow(z, origin='lower', cmap=cmap, norm=norm)\n",
    "    ax.set_aspect('equal')\n",
    "    ax.set_xticks(list(range(0, 2**nx, 8)) + [2**nx-1])\n",
    "    ax.set_yticks(list(range(0, 2**ny, 8)) + [2**ny-1])\n",
    "    ax.set_title(f't = {t}')\n",
    "\n",
    "# optional: print the maxima\n",
    "print([z.max() for z in zs])\n",
    "\n",
    "# 6) add the colorbar (pad bumped to avoid overlap)\n",
    "fig.colorbar(im, ax=axes, pad=0.025, shrink=0.5)\n",
    "\n",
    "# 7) super‐title + spacing just like before\n",
    "fig.suptitle('Heat equation in a 4x4 grid by Matrix Exponential',\n",
    "             fontsize=16)\n",
    "\n",
    "plt.show()"
   ]
  },
  {
   "cell_type": "markdown",
   "id": "03a5ad91",
   "metadata": {},
   "source": [
    "Next, we turn to LCHS with classical summation, let us first figure out the discrete $k_a$\n",
    "\n",
    "$$\n",
    "k_{a=\\left(a_{n_{\\mathrm{anc}}-1} \\ldots a_0\\right)_2}:=\\left(-a_{n_{\\mathrm{anc}}-1} 2^{n_{\\mathrm{anc}}-1}+\\sum_{m=0}^{n_{\\mathrm{anc}}-2} a_m 2^m\\right) 2^{-n_{\\mathrm{frac}}} .\n",
    "$$\n",
    "\n",
    "with $n_{\\text{frac}}=1, n_{\\text{anc}=8}$."
   ]
  },
  {
   "cell_type": "markdown",
   "id": "f450a027",
   "metadata": {},
   "source": [
    "Since StatevectorSimulator is too time-expensive, we still choose UnitarySimulator to test the LCHS."
   ]
  },
  {
   "cell_type": "code",
   "execution_count": 86,
   "id": "5991c1b7",
   "metadata": {},
   "outputs": [],
   "source": [
    "n_anc = 8\n",
    "n_frac = 1\n",
    "\n",
    "# Construct the list of integration points k_a (Eq. 29 in the paper)\n",
    "k_list = np.arange(0, 2**n_anc) * 2**(-n_frac)\n",
    "k_list[2**(n_anc-1):] -= 2**(n_anc - n_frac)\n",
    "k_list = np.sort(k_list)\n",
    "\n",
    "# Initial state in matrix form\n",
    "w_q = np.zeros((2**nx, 2**ny))\n",
    "w_q[2**(ny-1)-2:2**(ny-1)+2, 2**(nx-1)-2:2**(nx-1)] = 1\n",
    "w_q = w_q.flatten()\n",
    "w_q = w_q / np.linalg.norm(w_q)"
   ]
  },
  {
   "cell_type": "markdown",
   "id": "65cfa95b",
   "metadata": {},
   "source": [
    "Before we do the quantum simulation, it is a nice shot to use exponential matrix to test the power of the LCHS since we have shown it is theoritically equivalent to the quantum simulation and has a fast speed."
   ]
  },
  {
   "cell_type": "code",
   "execution_count": 87,
   "id": "908f6690",
   "metadata": {},
   "outputs": [],
   "source": [
    "# Simulation parameters\n",
    "T = 10.0\n",
    "dt = 0.1\n",
    "\n",
    "# boundary conditions\n",
    "bc_dict = {\n",
    "    '0': ('D', 'D'),\n",
    "    '1': ('D', 'D')\n",
    "}\n",
    "\n",
    "L = heat_hamiltonian(nx, ny, h, bc_dict, kappa)\n",
    "L_mat = L.op2matrix()\n",
    "c_list = [2**(-n_frac) / (np.pi * (1 + k**2)) for k in k_list]\n",
    "\n",
    "\n",
    "w_init = w_q.copy()\n",
    "w_branches = []\n",
    "\n",
    "for k, c in zip(k_list, c_list):\n",
    "    U_k = scipy.linalg.expm(-1j * k * L_mat * dt)\n",
    "    w_tmp = w_init.copy()\n",
    "    series = []\n",
    "    for _ in range(int(T / dt)):\n",
    "        w_tmp = U_k @ w_tmp\n",
    "        series.append(w_tmp.copy())\n",
    "    w_branches.append(c * np.array(series))\n",
    "\n",
    "# Sum over k_a branches to get the overall evolution\n",
    "w_branches = np.array(w_branches)          # shape (len(k_list), n_steps, dim)\n",
    "w_q_series = np.sum(w_branches, axis=0)    # shape (n_steps, dim)\n",
    "\n",
    "# w_q_series[j] is the unnormalised state at time t=j*dt"
   ]
  },
  {
   "cell_type": "code",
   "execution_count": 88,
   "id": "33f8b4fa",
   "metadata": {},
   "outputs": [
    {
     "name": "stdout",
     "output_type": "stream",
     "text": [
      "[np.float64(0.3491812153014126), np.float64(0.22014923706757114), np.float64(0.1540985636889746)]\n"
     ]
    },
    {
     "data": {
      "image/png": "[encoded data removed]",
      "text/plain": [
       "<Figure size 1600x450 with 4 Axes>"
      ]
     },
     "metadata": {},
     "output_type": "display_data"
    }
   ],
   "source": [
    "idx = [0, 5, 9.99]\n",
    "n, nx, ny, dt = 8, 4, 4, 0.1\n",
    "\n",
    "# make a copy of the data\n",
    "w = w_q_series.copy()\n",
    "\n",
    "# 1) build all 2D snapshots in order\n",
    "zs = [\n",
    "    w[int(t/dt), :2**n].real.reshape(2**ny, 2**nx)\n",
    "    for t in idx\n",
    "]\n",
    "\n",
    "# 2) find global min/max\n",
    "vmin = min(z.min() for z in zs)\n",
    "vmax = max(z.max() for z in zs)\n",
    "\n",
    "# 3) prep norm + colormap\n",
    "cmap = 'hot'\n",
    "norm = mcolors.Normalize(vmin=vmin, vmax=vmax)\n",
    "\n",
    "# 4) make subplots\n",
    "fig, axes = plt.subplots(1, len(idx), figsize=(16, 4.5))\n",
    "fig.subplots_adjust(wspace=0.4, hspace=0.4)\n",
    "\n",
    "# 5) plot each panel in sequence\n",
    "for ax, z, t in zip(axes, zs, idx):\n",
    "    im = ax.imshow(z, origin='lower', cmap=cmap, norm=norm)\n",
    "    ax.set_aspect('equal')\n",
    "    ax.set_xticks(list(range(0, 2**nx, 8)) + [2**nx-1])\n",
    "    ax.set_yticks(list(range(0, 2**ny, 8)) + [2**ny-1])\n",
    "    ax.set_title(f't = {t}')\n",
    "\n",
    "# optional: print the maxima\n",
    "print([z.max() for z in zs])\n",
    "\n",
    "# 6) add the colorbar (pad bumped to avoid overlap)\n",
    "fig.colorbar(im, ax=axes, pad=0.025, shrink=0.5)\n",
    "\n",
    "# 7) super‐title + spacing just like before\n",
    "fig.suptitle('Heat equation in a 4x4 grid by LCHS',\n",
    "             fontsize=16)\n",
    "\n",
    "plt.show()"
   ]
  },
  {
   "cell_type": "markdown",
   "id": "f9789130",
   "metadata": {},
   "source": [
    "Finally, let us try to use UnitarySimulator to see the effect of the LCHS! As we will see, due to the combination of a large number of $k_a$ and the Trotterization error, the result is not ideal which actually reflects the necessity of the MPS approximation!"
   ]
  },
  {
   "cell_type": "code",
   "execution_count": 76,
   "id": "d5d4a50b",
   "metadata": {},
   "outputs": [],
   "source": [
    "# Simulation parameters\n",
    "T = 10.0\n",
    "dt = 0.1\n",
    "sample_rate = 1\n",
    "\n",
    "# boundary conditions\n",
    "bc_dict = {\n",
    "    '0': ('D', 'D'),\n",
    "    '1': ('D', 'D')\n",
    "}\n",
    "\n",
    "c_list = [2**(-n_frac) / (np.pi * (1 + k**2)) for k in k_list]\n",
    "L = heat_hamiltonian(nx, ny, h, bc_dict, kappa)\n",
    "\n",
    "# Initial state in matrix form\n",
    "w_q = np.zeros((2**nx, 2**ny))\n",
    "w_q[2**(ny-1)-2:2**(ny-1)+2, 2**(nx-1)-2:2**(nx-1)] = 1\n",
    "w_q = w_q.flatten()\n",
    "w_q = w_q / np.linalg.norm(w_q)\n",
    "\n",
    "\n",
    "w_init = w_q.copy()\n",
    "w_branches = []\n",
    "\n",
    "for k, c in zip(k_list, c_list):\n",
    "    lchs = LCHSimulation(k*L)\n",
    "    lchs.simulation_circuit(dt=dt)\n",
    "    w_q_list = lchs.matrix_simulation_evolve(T=T, state=w_init, sample_rate=sample_rate)\n",
    "    w_branches.append(c * w_q_list)\n",
    "\n",
    "# Sum over k_a branches to get the overall evolution\n",
    "w_branches = np.array(w_branches)          # shape (len(k_list), n_steps, dim)\n",
    "w_q_series = np.sum(w_branches, axis=0)    # shape (n_steps, dim)\n",
    "\n",
    "# w_q_series[j] is the unnormalised state at time t=j*dt"
   ]
  },
  {
   "cell_type": "code",
   "execution_count": 80,
   "id": "ddfcf05e",
   "metadata": {},
   "outputs": [
    {
     "name": "stdout",
     "output_type": "stream",
     "text": [
      "[np.float64(0.3500392463187873), np.float64(0.13850231126448198), np.float64(0.07963790871148296)]\n"
     ]
    },
    {
     "data": {
      "image/png": "[encoded data removed]",
      "text/plain": [
       "<Figure size 1600x450 with 4 Axes>"
      ]
     },
     "metadata": {},
     "output_type": "display_data"
    }
   ],
   "source": [
    "idx = [0, 5, 9.99]\n",
    "n, nx, ny, dt = 8, 4, 4, 0.1\n",
    "\n",
    "# make a copy of the data\n",
    "w = w_q_series.copy()\n",
    "\n",
    "# 1) build all 2D snapshots in order\n",
    "zs = [\n",
    "    w[int(t/dt), :2**n].real.reshape(2**ny, 2**nx)\n",
    "    for t in idx\n",
    "]\n",
    "\n",
    "# 2) find global min/max\n",
    "#vmin = min(z.min() for z in zs)\n",
    "#vmax = max(z.max() for z in zs)\n",
    "\n",
    "# 3) prep norm + colormap\n",
    "cmap = 'hot'\n",
    "norm = mcolors.Normalize(vmin=vmin, vmax=vmax)\n",
    "\n",
    "# 4) make subplots\n",
    "fig, axes = plt.subplots(1, len(idx), figsize=(16, 4.5))\n",
    "fig.subplots_adjust(wspace=0.4, hspace=0.4)\n",
    "\n",
    "# 5) plot each panel in sequence\n",
    "for ax, z, t in zip(axes, zs, idx):\n",
    "    im = ax.imshow(z, origin='lower', cmap=cmap, norm=norm)\n",
    "    ax.set_aspect('equal')\n",
    "    ax.set_xticks(list(range(0, 2**nx, 8)) + [2**nx-1])\n",
    "    ax.set_yticks(list(range(0, 2**ny, 8)) + [2**ny-1])\n",
    "    ax.set_title(f't = {t}')\n",
    "\n",
    "# optional: print the maxima\n",
    "print([z.max() for z in zs])\n",
    "\n",
    "# 6) add the colorbar (pad bumped to avoid overlap)\n",
    "fig.colorbar(im, ax=axes, pad=0.025, shrink=0.5)\n",
    "\n",
    "# 7) super‐title + spacing just like before\n",
    "fig.suptitle('Heat equation in a 4x4 grid by LCHS',\n",
    "             fontsize=16)\n",
    "\n",
    "plt.show()"
   ]
  }
 ],
 "metadata": {
  "kernelspec": {
   "display_name": "LCHS_env",
   "language": "python",
   "name": "python3"
  },
  "language_info": {
   "codemirror_mode": {
    "name": "ipython",
    "version": 3
   },
   "file_extension": ".py",
   "mimetype": "text/x-python",
   "name": "python",
   "nbconvert_exporter": "python",
   "pygments_lexer": "ipython3",
   "version": "3.12.11"
  }
 },
 "nbformat": 4,
 "nbformat_minor": 5
}
